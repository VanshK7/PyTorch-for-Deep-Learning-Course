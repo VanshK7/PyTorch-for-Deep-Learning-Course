{
 "cells": [
  {
   "cell_type": "markdown",
   "metadata": {},
   "source": [
    "# PyTorch Computer Vision"
   ]
  },
  {
   "cell_type": "markdown",
   "metadata": {},
   "source": [
    "## 0. Computer Vision libraries in PyTorch\n",
    "\n",
    "* `torchvision` - base domain library for PyTorch computer vision\n",
    "* `torchvision.datasets` - get datasets and data loading functions for computer vision here\n",
    "* `torchvision.models` - get pretrained computer vision models that you can leverage for your own problems\n",
    "* `torchvision.transforms` - functions for manipulating your vision data (images) to be suitable for use with an image model.\n",
    "* `torch.utils.data.Dataset` - Base dataset class for PyTorch\n",
    "* `torch.utils.data.DataLoader` - Creates a Python iterable over a dataset."
   ]
  },
  {
   "cell_type": "code",
   "execution_count": 74,
   "metadata": {},
   "outputs": [],
   "source": [
    "# Import PyTorch\n",
    "import torch\n",
    "from torch import nn\n",
    "\n",
    "# Import torchvision\n",
    "import torchvision\n",
    "from torchvision import datasets\n",
    "from torchvision import transforms\n",
    "from torchvision.transforms import ToTensor\n",
    "\n",
    "# Import matplotlib for visualization\n",
    "import matplotlib.pyplot as plt"
   ]
  },
  {
   "cell_type": "markdown",
   "metadata": {},
   "source": [
    "## 1. Getting a dataset\n",
    "\n",
    "The dataset we'll be using is the FashionMNIST."
   ]
  },
  {
   "cell_type": "code",
   "execution_count": 75,
   "metadata": {},
   "outputs": [],
   "source": [
    "# Setup training data\n",
    "from torchvision import datasets\n",
    "train_data = datasets.FashionMNIST(\n",
    "    root=\"data\",            # Where to download the data\n",
    "    train=True,             # Do we want the training dataset\n",
    "    download=True,          # Do we want to download it\n",
    "    transform=torchvision.transforms.ToTensor(),    # How do we want to transform the data\n",
    "    target_transform=None   # How do we want to transform the output/labels\n",
    ")\n",
    "\n",
    "# Setup testing data\n",
    "test_data = datasets.FashionMNIST(\n",
    "    root=\"data\",\n",
    "    train=False,\n",
    "    download=True,\n",
    "    transform=torchvision.transforms.ToTensor(),\n",
    "    target_transform=None\n",
    ")"
   ]
  },
  {
   "cell_type": "code",
   "execution_count": 76,
   "metadata": {},
   "outputs": [
    {
     "data": {
      "text/plain": [
       "(60000, 10000)"
      ]
     },
     "execution_count": 76,
     "metadata": {},
     "output_type": "execute_result"
    }
   ],
   "source": [
    "len(train_data), len(test_data)"
   ]
  },
  {
   "cell_type": "code",
   "execution_count": 77,
   "metadata": {},
   "outputs": [
    {
     "data": {
      "text/plain": [
       "['T-shirt/top',\n",
       " 'Trouser',\n",
       " 'Pullover',\n",
       " 'Dress',\n",
       " 'Coat',\n",
       " 'Sandal',\n",
       " 'Shirt',\n",
       " 'Sneaker',\n",
       " 'Bag',\n",
       " 'Ankle boot']"
      ]
     },
     "execution_count": 77,
     "metadata": {},
     "output_type": "execute_result"
    }
   ],
   "source": [
    "class_names = train_data.classes\n",
    "class_names"
   ]
  },
  {
   "cell_type": "code",
   "execution_count": 78,
   "metadata": {},
   "outputs": [
    {
     "data": {
      "text/plain": [
       "{'T-shirt/top': 0,\n",
       " 'Trouser': 1,\n",
       " 'Pullover': 2,\n",
       " 'Dress': 3,\n",
       " 'Coat': 4,\n",
       " 'Sandal': 5,\n",
       " 'Shirt': 6,\n",
       " 'Sneaker': 7,\n",
       " 'Bag': 8,\n",
       " 'Ankle boot': 9}"
      ]
     },
     "execution_count": 78,
     "metadata": {},
     "output_type": "execute_result"
    }
   ],
   "source": [
    "class_to_idx = train_data.class_to_idx\n",
    "class_to_idx"
   ]
  },
  {
   "cell_type": "code",
   "execution_count": 79,
   "metadata": {},
   "outputs": [
    {
     "data": {
      "text/plain": [
       "tensor([9, 0, 0,  ..., 3, 0, 5])"
      ]
     },
     "execution_count": 79,
     "metadata": {},
     "output_type": "execute_result"
    }
   ],
   "source": [
    "train_data.targets"
   ]
  },
  {
   "cell_type": "code",
   "execution_count": 80,
   "metadata": {},
   "outputs": [
    {
     "data": {
      "text/plain": [
       "(torch.Size([1, 28, 28]), 9)"
      ]
     },
     "execution_count": 80,
     "metadata": {},
     "output_type": "execute_result"
    }
   ],
   "source": [
    "# Check the shape of our image\n",
    "image, label = train_data[0]        # Image is in color channels * height * width\n",
    "image.shape, label"
   ]
  },
  {
   "cell_type": "markdown",
   "metadata": {},
   "source": [
    "## 1.2 Visualizing our data"
   ]
  },
  {
   "cell_type": "code",
   "execution_count": 81,
   "metadata": {},
   "outputs": [
    {
     "name": "stdout",
     "output_type": "stream",
     "text": [
      "Image shape: torch.Size([1, 28, 28])\n"
     ]
    },
    {
     "data": {
      "text/plain": [
       "<matplotlib.image.AxesImage at 0x2793deb6a70>"
      ]
     },
     "execution_count": 81,
     "metadata": {},
     "output_type": "execute_result"
    },
    {
     "data": {
      "image/png": "[encoded data removed]",
      "text/plain": [
       "<Figure size 640x480 with 1 Axes>"
      ]
     },
     "metadata": {},
     "output_type": "display_data"
    }
   ],
   "source": [
    "import matplotlib.pyplot as plt\n",
    "image, label = train_data[0]\n",
    "print(f\"Image shape: {image.shape}\")\n",
    "plt.imshow(image.squeeze())"
   ]
  },
  {
   "cell_type": "code",
   "execution_count": 82,
   "metadata": {},
   "outputs": [
    {
     "data": {
      "text/plain": [
       "(-0.5, 27.5, 27.5, -0.5)"
      ]
     },
     "execution_count": 82,
     "metadata": {},
     "output_type": "execute_result"
    },
    {
     "data": {
      "image/png": "[encoded data removed]",
      "text/plain": [
       "<Figure size 640x480 with 1 Axes>"
      ]
     },
     "metadata": {},
     "output_type": "display_data"
    }
   ],
   "source": [
    "# Plotting in grayscale\n",
    "plt.imshow(image.squeeze(), cmap=\"gray\")\n",
    "plt.title(class_names[label])\n",
    "plt.axis(False)"
   ]
  },
  {
   "cell_type": "code",
   "execution_count": 83,
   "metadata": {},
   "outputs": [
    {
     "data": {
      "image/png": "[encoded data removed]",
      "text/plain": [
       "<Figure size 900x900 with 16 Axes>"
      ]
     },
     "metadata": {},
     "output_type": "display_data"
    }
   ],
   "source": [
    "# Plot more images\n",
    "torch.manual_seed(42)\n",
    "fig = plt.figure(figsize=(9, 9))\n",
    "rows, cols = 4, 4\n",
    "for i in range(1, rows*cols+1):\n",
    "    random_idx = torch.randint(0, len(train_data), size=[1]).item()     # size=[1] means 1 random integer in a tensor, .item() to get the python integer from the tensor\n",
    "    img, label = train_data[random_idx]\n",
    "    fig.add_subplot(rows, cols, i)\n",
    "    plt.imshow(img.squeeze(), cmap=\"gray\")\n",
    "    plt.title(class_names[label])\n",
    "    plt.axis(False)"
   ]
  },
  {
   "cell_type": "markdown",
   "metadata": {},
   "source": [
    "## 2. Prepare DataLoader\n",
    "\n",
    "Our data is in the form of PyTorch Datasets.\n",
    "\n",
    "DataLoader turns our dataset into a Python iterable.\n",
    "\n",
    "More specifically, we want to turn our data into batches/mini-batches.\n",
    "\n",
    "Why would we do this?\n",
    "\n",
    "1. It is more computationally efficient, as in, your computing hardware may not be able to look at 60000 images in one hit. So we break it down to 32 images at one time (batch size = 32).\n",
    "\n",
    "2. It gives our neural network more chances to update it's gradients per epoch."
   ]
  },
  {
   "cell_type": "code",
   "execution_count": 84,
   "metadata": {},
   "outputs": [],
   "source": [
    "from torch.utils.data import DataLoader \n",
    "\n",
    "# Setup the batch size hyperparameter\n",
    "BATCH_SIZE = 32\n",
    "\n",
    "# Turn datasets into iterables (batches)\n",
    "train_dataloader = DataLoader(dataset=train_data,\n",
    "                              batch_size=BATCH_SIZE,\n",
    "                              shuffle=True)\n",
    "\n",
    "test_dataloader = DataLoader(dataset=test_data,\n",
    "                             batch_size=BATCH_SIZE,\n",
    "                             shuffle=False)"
   ]
  },
  {
   "cell_type": "code",
   "execution_count": 85,
   "metadata": {},
   "outputs": [
    {
     "name": "stdout",
     "output_type": "stream",
     "text": [
      "DataLoaders: (<torch.utils.data.dataloader.DataLoader object at 0x000002793F71C670>, <torch.utils.data.dataloader.DataLoader object at 0x000002793F71E020>)\n",
      "Length of train_dataloader: 1875 batches of 32\n",
      "Length of test_dataloader: 313 batches of 32\n"
     ]
    }
   ],
   "source": [
    "# Let's check what we've created \n",
    "print(f\"DataLoaders: {train_dataloader, test_dataloader}\")\n",
    "print(f\"Length of train_dataloader: {len(train_dataloader)} batches of {BATCH_SIZE}\")\n",
    "print(f\"Length of test_dataloader: {len(test_dataloader)} batches of {BATCH_SIZE}\")"
   ]
  },
  {
   "cell_type": "code",
   "execution_count": 86,
   "metadata": {},
   "outputs": [
    {
     "data": {
      "text/plain": [
       "(torch.Size([32, 1, 28, 28]), torch.Size([32]))"
      ]
     },
     "execution_count": 86,
     "metadata": {},
     "output_type": "execute_result"
    }
   ],
   "source": [
    "# Check out what's inside training dataloader\n",
    "train_features_batch, train_labels_batch = next(iter(train_dataloader))\n",
    "train_features_batch.shape, train_labels_batch.shape"
   ]
  },
  {
   "cell_type": "code",
   "execution_count": 87,
   "metadata": {},
   "outputs": [
    {
     "name": "stdout",
     "output_type": "stream",
     "text": [
      "Image size: torch.Size([1, 28, 28])\n",
      "Label: 6, label_size=torch.Size([])\n"
     ]
    },
    {
     "data": {
      "image/png": "[encoded data removed]",
      "text/plain": [
       "<Figure size 640x480 with 1 Axes>"
      ]
     },
     "metadata": {},
     "output_type": "display_data"
    }
   ],
   "source": [
    "# Show a sample\n",
    "torch.manual_seed(42)\n",
    "random_idx = torch.randint(0, len(train_features_batch), size=[1]).item()\n",
    "img, label = train_features_batch[random_idx], train_labels_batch[random_idx]\n",
    "plt.imshow(img.squeeze(), cmap='gray')\n",
    "plt.title(class_names[label])\n",
    "plt.axis(False)\n",
    "print(f\"Image size: {img.shape}\")\n",
    "print(f\"Label: {label}, label_size={label.shape}\")"
   ]
  },
  {
   "cell_type": "markdown",
   "metadata": {},
   "source": [
    "## 3. Model 0: Make a baseline model\n",
    "\n",
    "When starting to build a series of machine learning modelling experiments. it's best practice to start with a baseline model.\n",
    "\n",
    "A baseline model is a simple model you will try and improve upon with subsequent models/experiments.\n",
    "\n",
    "In other words: start simply and add complexity when necessary."
   ]
  },
  {
   "cell_type": "code",
   "execution_count": 88,
   "metadata": {},
   "outputs": [
    {
     "name": "stdout",
     "output_type": "stream",
     "text": [
      "Shape before flattening: torch.Size([1, 28, 28])\n",
      "Shape after flattening: torch.Size([1, 784])\n"
     ]
    }
   ],
   "source": [
    "# Create a flatten layer\n",
    "flatten_model = nn.Flatten()\n",
    "\n",
    "# Get a single sample\n",
    "x = train_features_batch[0]\n",
    "\n",
    "# Flatten the sample\n",
    "output = flatten_model(x)       # Perform forward pass\n",
    "\n",
    "# Print out what happened\n",
    "print(f\"Shape before flattening: {x.shape}\")            # Colour channels, height, width\n",
    "print(f\"Shape after flattening: {output.shape}\")        # Colour channels,, height * width\n",
    "# We flatten it as we're applying a linear layer to the data and a linear layer can't handle multi-dimensional input"
   ]
  },
  {
   "cell_type": "code",
   "execution_count": 89,
   "metadata": {},
   "outputs": [],
   "source": [
    "from torch import nn\n",
    "class FashionMNISTModelV0(nn.Module):\n",
    "    def __init__(self, input_shape: int, hidden_units: int, output_shape: int):\n",
    "        super().__init__()\n",
    "        self.layer_stack = nn.Sequential(\n",
    "            nn.Flatten(),\n",
    "            nn.Linear(in_features=input_shape, out_features=hidden_units),\n",
    "            nn.Linear(in_features=hidden_units, out_features=output_shape)\n",
    "        )\n",
    "    \n",
    "    def forward(self, x):\n",
    "        return self.layer_stack(x)"
   ]
  },
  {
   "cell_type": "code",
   "execution_count": 90,
   "metadata": {},
   "outputs": [
    {
     "data": {
      "text/plain": [
       "FashionMNISTModelV0(\n",
       "  (layer_stack): Sequential(\n",
       "    (0): Flatten(start_dim=1, end_dim=-1)\n",
       "    (1): Linear(in_features=784, out_features=10, bias=True)\n",
       "    (2): Linear(in_features=10, out_features=10, bias=True)\n",
       "  )\n",
       ")"
      ]
     },
     "execution_count": 90,
     "metadata": {},
     "output_type": "execute_result"
    }
   ],
   "source": [
    "torch.manual_seed(42)\n",
    "\n",
    "# Setup model with input parameters\n",
    "model_0 = FashionMNISTModelV0(\n",
    "    input_shape=784,        # 28 x 28\n",
    "    hidden_units=10,\n",
    "    output_shape=len(class_names)       # One for every class\n",
    ").to('cpu')\n",
    "\n",
    "model_0"
   ]
  },
  {
   "cell_type": "code",
   "execution_count": 91,
   "metadata": {},
   "outputs": [
    {
     "data": {
      "text/plain": [
       "tensor([[-0.0315,  0.3171,  0.0531, -0.2525,  0.5959,  0.2112,  0.3233,  0.2694,\n",
       "         -0.1004,  0.0157]], grad_fn=<AddmmBackward0>)"
      ]
     },
     "execution_count": 91,
     "metadata": {},
     "output_type": "execute_result"
    }
   ],
   "source": [
    "dummy_x = torch.rand([1, 28, 28])\n",
    "model_0(dummy_x)"
   ]
  },
  {
   "cell_type": "code",
   "execution_count": 92,
   "metadata": {},
   "outputs": [
    {
     "data": {
      "text/plain": [
       "OrderedDict([('layer_stack.1.weight',\n",
       "              tensor([[ 0.0273,  0.0296, -0.0084,  ..., -0.0142,  0.0093,  0.0135],\n",
       "                      [-0.0188, -0.0354,  0.0187,  ..., -0.0106, -0.0001,  0.0115],\n",
       "                      [-0.0008,  0.0017,  0.0045,  ..., -0.0127, -0.0188,  0.0059],\n",
       "                      ...,\n",
       "                      [-0.0116,  0.0273, -0.0344,  ...,  0.0176,  0.0283, -0.0011],\n",
       "                      [-0.0230,  0.0257,  0.0291,  ..., -0.0187, -0.0087,  0.0001],\n",
       "                      [ 0.0176, -0.0147,  0.0053,  ..., -0.0336, -0.0221,  0.0205]])),\n",
       "             ('layer_stack.1.bias',\n",
       "              tensor([-0.0093,  0.0283, -0.0033,  0.0255,  0.0017,  0.0037, -0.0302, -0.0123,\n",
       "                       0.0018,  0.0163])),\n",
       "             ('layer_stack.2.weight',\n",
       "              tensor([[ 0.0614, -0.0687,  0.0021,  0.2718,  0.2109,  0.1079, -0.2279, -0.1063,\n",
       "                        0.2019,  0.2847],\n",
       "                      [-0.1495,  0.1344, -0.0740,  0.2006, -0.0475, -0.2514, -0.3130, -0.0118,\n",
       "                        0.0932, -0.1864],\n",
       "                      [ 0.2488,  0.1500,  0.1907,  0.1457, -0.3050, -0.0580,  0.1643,  0.1565,\n",
       "                       -0.2877, -0.1792],\n",
       "                      [ 0.2305, -0.2618,  0.2397, -0.0610,  0.0232,  0.1542,  0.0851, -0.2027,\n",
       "                        0.1030, -0.2715],\n",
       "                      [-0.1596, -0.0555, -0.0633,  0.2302, -0.1726,  0.2654,  0.1473,  0.1029,\n",
       "                        0.2252, -0.2160],\n",
       "                      [-0.2725,  0.0118,  0.1559,  0.1596,  0.0132,  0.3024,  0.1124,  0.1366,\n",
       "                       -0.1533,  0.0965],\n",
       "                      [-0.1184, -0.2555, -0.2057, -0.1909, -0.0477, -0.1324,  0.2905,  0.1307,\n",
       "                       -0.2629,  0.0133],\n",
       "                      [ 0.2727, -0.0127,  0.0513,  0.0863, -0.1043, -0.2047, -0.1185, -0.0825,\n",
       "                        0.2488, -0.2571],\n",
       "                      [ 0.0425, -0.1209, -0.0336, -0.0281, -0.1227,  0.0730,  0.0747, -0.1816,\n",
       "                        0.1943,  0.2853],\n",
       "                      [-0.1310,  0.0645, -0.1171,  0.2168, -0.0245, -0.2820,  0.0736,  0.2621,\n",
       "                        0.0012, -0.0810]])),\n",
       "             ('layer_stack.2.bias',\n",
       "              tensor([-0.0087,  0.1791,  0.2712, -0.0791,  0.1685,  0.1762,  0.2825,  0.2266,\n",
       "                      -0.2612, -0.2613]))])"
      ]
     },
     "execution_count": 92,
     "metadata": {},
     "output_type": "execute_result"
    }
   ],
   "source": [
    "model_0.state_dict()                # Has weights and biases"
   ]
  },
  {
   "cell_type": "markdown",
   "metadata": {},
   "source": [
    "### 3.1 Setup loss, optimizer and evaluation metrics\n",
    "\n",
    "* Loss function - since we're working with multi-class data, our loss function will be `nn.CrossEntropyLoss()`\n",
    "* Optimizer - our optimizer `torch.optim.SGD()`\n",
    "* Evaluation metric - since we're working on a classification problem, let's use accuracy as our evaluation metric."
   ]
  },
  {
   "cell_type": "code",
   "execution_count": 93,
   "metadata": {},
   "outputs": [
    {
     "name": "stdout",
     "output_type": "stream",
     "text": [
      "helper_functions.py already exists, skipping download.\n"
     ]
    }
   ],
   "source": [
    "import requests\n",
    "from pathlib import Path\n",
    "\n",
    "# Downloading helper functions\n",
    "if Path('helper_functions.py').is_file():\n",
    "    print(\"helper_functions.py already exists, skipping download.\")\n",
    "else:\n",
    "    print(\"Downloading helper_functions.py\")\n",
    "    request = requests.get(\"https://raw.githubusercontent.com/mrdbourke/pytorch-deep-learning/main/helper_functions.py\")\n",
    "    with open('helper_functions.py', 'wb') as f:\n",
    "        f.write(request.content)"
   ]
  },
  {
   "cell_type": "code",
   "execution_count": 94,
   "metadata": {},
   "outputs": [],
   "source": [
    "# Import accuracy metric\n",
    "from helper_functions import accuracy_fn\n",
    "\n",
    "# Setup loss function and optimizer\n",
    "loss_fn = nn.CrossEntropyLoss()\n",
    "optimizer = torch.optim.SGD(params=model_0.parameters(),\n",
    "                            lr=0.1)"
   ]
  },
  {
   "cell_type": "markdown",
   "metadata": {},
   "source": [
    "### 3.2 Creating a function to time our experiments\n",
    "\n",
    "Machine learning is very experimental.\n",
    "\n",
    "2 of the main things you'll often want to track:\n",
    "1. Model's performance (loss & accuracy values etc.)\n",
    "2. How fast it runs"
   ]
  },
  {
   "cell_type": "code",
   "execution_count": 95,
   "metadata": {},
   "outputs": [],
   "source": [
    "from timeit import default_timer as timer \n",
    "def print_train_time(start: float, end: float, device: torch.device=None):\n",
    "    \"\"\"\"Prints difference between start and end time\"\"\"\n",
    "    total_time = end - start\n",
    "    print(f\"Train time on {device}: {total_time:.3f} seconds\")\n",
    "    return total_time"
   ]
  },
  {
   "cell_type": "code",
   "execution_count": 96,
   "metadata": {},
   "outputs": [
    {
     "name": "stdout",
     "output_type": "stream",
     "text": [
      "Train time on cpu: 0.000 seconds\n"
     ]
    },
    {
     "data": {
      "text/plain": [
       "4.2199972085654736e-05"
      ]
     },
     "execution_count": 96,
     "metadata": {},
     "output_type": "execute_result"
    }
   ],
   "source": [
    "start_time = timer()\n",
    "# Some code\n",
    "end_time = timer()\n",
    "print_train_time(start_time, end_time, device=\"cpu\")"
   ]
  },
  {
   "cell_type": "markdown",
   "metadata": {},
   "source": [
    "### 3.3 Creating a training loop and training a model on batches of data.\n",
    "\n",
    "1. Loop through epochs.\n",
    "2. Loop through training batches, perform training steps, calculate the training loss **per batch**.\n",
    "3. Loop through testing batches, perform testing steps, calculate the test loss **per batch**.\n",
    "4. Print out what's happening.\n",
    "5. Time it all."
   ]
  },
  {
   "cell_type": "code",
   "execution_count": 97,
   "metadata": {},
   "outputs": [
    {
     "data": {
      "application/vnd.jupyter.widget-view+json": {
       "model_id": "65035b54fe1342fab8c12cfd34c7e324",
       "version_major": 2,
       "version_minor": 0
      },
      "text/plain": [
       "  0%|          | 0/3 [00:00<?, ?it/s]"
      ]
     },
     "metadata": {},
     "output_type": "display_data"
    },
    {
     "name": "stdout",
     "output_type": "stream",
     "text": [
      "Epoch: 0\n",
      "\n",
      "Looked at 0/60000\n",
      "Looked at 12800/60000\n",
      "Looked at 25600/60000\n",
      "Looked at 38400/60000\n",
      "Looked at 51200/60000\n",
      "\n",
      "Train Loss: 0.5904 | Test Loss: 0.5095 | Test Acc: 82.04%\n",
      "Epoch: 1\n",
      "\n",
      "Looked at 0/60000\n",
      "Looked at 12800/60000\n",
      "Looked at 25600/60000\n",
      "Looked at 38400/60000\n",
      "Looked at 51200/60000\n",
      "\n",
      "Train Loss: 0.4763 | Test Loss: 0.4799 | Test Acc: 83.20%\n",
      "Epoch: 2\n",
      "\n",
      "Looked at 0/60000\n",
      "Looked at 12800/60000\n",
      "Looked at 25600/60000\n",
      "Looked at 38400/60000\n",
      "Looked at 51200/60000\n",
      "\n",
      "Train Loss: 0.4550 | Test Loss: 0.4766 | Test Acc: 83.43%\n",
      "Train time on cpu: 31.639 seconds\n"
     ]
    }
   ],
   "source": [
    "# Import tqdm for progress bar\n",
    "from tqdm.auto import tqdm\n",
    "\n",
    "# Set the seed and start the timer\n",
    "torch.manual_seed(42)\n",
    "train_time_start_on_cpu = timer()\n",
    "\n",
    "# Set the number of epochs (we'll keep this small for faster training time)\n",
    "epochs = 3\n",
    "\n",
    "# Create training and test loop\n",
    "for epoch in tqdm(range(epochs)):\n",
    "    print(f\"Epoch: {epoch}\\n\")\n",
    "    ### Training\n",
    "    train_loss = 0\n",
    "    # Add a loop to loop through the training batches\n",
    "    for batch, (X, y) in enumerate(train_dataloader):\n",
    "        model_0.train()\n",
    "        # 1. Forward pass\n",
    "        y_pred = model_0(X)\n",
    "        \n",
    "        # 2. Calculate the loss (per batch)\n",
    "        loss = loss_fn(y_pred, y)\n",
    "        train_loss += loss          # Accumulate training loss\n",
    "        \n",
    "        # 3. Optimizer zero grad\n",
    "        optimizer.zero_grad()\n",
    "        \n",
    "        # 4. Loss backward\n",
    "        loss.backward()\n",
    "        \n",
    "        # 5. Optimizer step\n",
    "        optimizer.step()\n",
    "    \n",
    "        # Print out what's happening\n",
    "        if batch % 400 == 0:\n",
    "            print(f\"Looked at {batch * len(X)}/{len(train_dataloader.dataset)}\")\n",
    "        \n",
    "    # Divide total train loss by length of train dataloader\n",
    "    train_loss /= len(train_dataloader)             # Avg loss/epoch in a batch\n",
    "    \n",
    "    ### Testing\n",
    "    test_loss, test_acc = 0, 0\n",
    "    model_0.eval()\n",
    "    with torch.inference_mode():\n",
    "        for X_test, y_test in test_dataloader:\n",
    "            # 1. Forward pass\n",
    "            test_pred = model_0(X_test)\n",
    "            \n",
    "            # 2. Calculate loss (accumulatively)\n",
    "            test_loss += loss_fn(test_pred, y_test)\n",
    "            \n",
    "            # 3. Calculate accuracy\n",
    "            test_acc += accuracy_fn(y_true=y_test, y_pred=test_pred.argmax(dim=1))  # argmax to get the highest probability outcome\n",
    "        \n",
    "        # Calculate the test loss average/batch\n",
    "        test_loss /= len(test_dataloader)              \n",
    "        \n",
    "        # Calculate the test acc average/batch\n",
    "        test_acc /= len(test_dataloader)\n",
    "        \n",
    "    # Print out what's happening\n",
    "    print(f\"\\nTrain Loss: {train_loss:.4f} | Test Loss: {test_loss:.4f} | Test Acc: {test_acc:.2f}%\")\n",
    "\n",
    "# Calculate train time\n",
    "train_time_end_on_cpu = timer()\n",
    "total_train_time_model_0 = print_train_time(start=train_time_start_on_cpu, end=train_time_end_on_cpu, device=str(next(model_0.parameters()).device))"
   ]
  },
  {
   "cell_type": "markdown",
   "metadata": {},
   "source": [
    "## 4. Make predictions and get Model 0 results"
   ]
  },
  {
   "cell_type": "code",
   "execution_count": 98,
   "metadata": {},
   "outputs": [
    {
     "data": {
      "text/plain": [
       "{'model_name': 'FashionMNISTModelV0',\n",
       " 'model_loss': 0.47663894295692444,\n",
       " 'model_acc': 83.42651757188499}"
      ]
     },
     "execution_count": 98,
     "metadata": {},
     "output_type": "execute_result"
    }
   ],
   "source": [
    "torch.manual_seed(42)\n",
    "def eval_model(model: torch.nn.Module,\n",
    "               data_loader: torch.utils.data.DataLoader,\n",
    "               loss_fn: torch.nn.Module,\n",
    "               accuracy_fn):\n",
    "    \"\"\"Returns a dictionary containing the results of a model predicting on data loader.\"\"\"\n",
    "    loss, acc = 0, 0\n",
    "    model_0.eval()\n",
    "    with torch.inference_mode():\n",
    "        for X, y in data_loader:\n",
    "            # Make predictions\n",
    "            y_pred = model(X)\n",
    "            \n",
    "            # Accumulate the loss and accuracy values / batch\n",
    "            loss += loss_fn(y_pred, y)\n",
    "            acc += accuracy_fn(y_true=y, y_pred=y_pred.argmax(dim=1))\n",
    "        \n",
    "        # Scale loss and acc to find the average loss or acc / batch\n",
    "        loss /= len(data_loader)\n",
    "        acc /= len(data_loader)\n",
    "    \n",
    "    return {'model_name': model.__class__.__name__,     # Only works when model was created with a class\n",
    "            'model_loss': loss.item(),\n",
    "            'model_acc': acc}\n",
    "\n",
    "# Calculate model 0 results on test dataset\n",
    "model_0_results = eval_model(model_0, test_dataloader, loss_fn, accuracy_fn)\n",
    "model_0_results"
   ]
  },
  {
   "cell_type": "markdown",
   "metadata": {},
   "source": [
    "## 5. Setup device agnostic code"
   ]
  },
  {
   "cell_type": "code",
   "execution_count": 99,
   "metadata": {},
   "outputs": [
    {
     "data": {
      "text/plain": [
       "'cpu'"
      ]
     },
     "execution_count": 99,
     "metadata": {},
     "output_type": "execute_result"
    }
   ],
   "source": [
    "# Setup device agnostic code\n",
    "import torch\n",
    "device = \"cuda\" if torch.cuda.is_available() else \"cpu\"\n",
    "device"
   ]
  },
  {
   "cell_type": "markdown",
   "metadata": {},
   "source": [
    "## 6. Model 1: Building a better model with non-linearity"
   ]
  },
  {
   "cell_type": "code",
   "execution_count": 100,
   "metadata": {},
   "outputs": [],
   "source": [
    "# Create a model with non-linear and linear layers\n",
    "class FashionMNISTModelV1(nn.Module):\n",
    "    def __init__(self, input_shape: int, hidden_units: int, output_shape: int):\n",
    "        super().__init__()\n",
    "        self.layer_stack = nn.Sequential(\n",
    "            nn.Flatten(),       # Flattens input to a single vector\n",
    "            nn.Linear(in_features=input_shape, out_features=hidden_units),\n",
    "            nn.ReLU(),\n",
    "            nn.Linear(in_features=hidden_units, out_features=output_shape),\n",
    "            nn.ReLU()\n",
    "        )\n",
    "    \n",
    "    def forward(self, x: torch.Tensor):\n",
    "        return self.layer_stack(x)"
   ]
  },
  {
   "cell_type": "code",
   "execution_count": 101,
   "metadata": {},
   "outputs": [
    {
     "data": {
      "text/plain": [
       "device(type='cpu')"
      ]
     },
     "execution_count": 101,
     "metadata": {},
     "output_type": "execute_result"
    }
   ],
   "source": [
    "# Create an instance of model_1\n",
    "torch.manual_seed(42)\n",
    "model_1 = FashionMNISTModelV1(input_shape=784,          # Output of the flatten layer after our 28x28 image goes in\n",
    "                              hidden_units=10,\n",
    "                              output_shape=len(class_names)).to(device)\n",
    "next(model_1.parameters()).device"
   ]
  },
  {
   "cell_type": "markdown",
   "metadata": {},
   "source": [
    "### 6.1 Setup loss, optimizer and evaluation metrics"
   ]
  },
  {
   "cell_type": "code",
   "execution_count": 102,
   "metadata": {},
   "outputs": [],
   "source": [
    "from helper_functions import accuracy_fn\n",
    "loss_fn = nn.CrossEntropyLoss()         # Measures how wrong our model is\n",
    "optimizer = torch.optim.SGD(params=model_1.parameters(), lr=0.1)        # Updates our model params to reduce loss"
   ]
  },
  {
   "cell_type": "markdown",
   "metadata": {},
   "source": [
    "### 6.2 Functionalizing training and evaluation/testing loops\n",
    "Let's create a function for:\n",
    "* training loop - `train_step()`\n",
    "* testing loop - `test_step()`"
   ]
  },
  {
   "cell_type": "code",
   "execution_count": 103,
   "metadata": {},
   "outputs": [],
   "source": [
    "def train_step(model: torch.nn.Module, \n",
    "               data_loader: torch.utils.data.DataLoader,\n",
    "               loss_fn: torch.nn.Module,\n",
    "               optimizer: torch.optim.Optimizer,\n",
    "               accuracy_fn,\n",
    "               device: torch.device = device):\n",
    "    \"\"\"Performs a training loop step on model trying to learn on dataloader\"\"\"\n",
    "    train_loss, train_acc = 0, 0\n",
    "    \n",
    "    # Put model into training model\n",
    "    model.train()\n",
    "    \n",
    "    # Add a loop to loop through the training batches\n",
    "    for batch, (X, y) in enumerate(data_loader):\n",
    "        # Put data on target device\n",
    "        X, y = X.to(device), y.to(device)\n",
    "        \n",
    "        # 1. Forward pass (outputs the raw logits from the model)\n",
    "        y_pred = model(X)\n",
    "        \n",
    "        # 2. Calculate loss and accuracy / batch\n",
    "        loss = loss_fn(y_pred, y)\n",
    "        train_loss += loss\n",
    "        train_acc += accuracy_fn(y_true=y, y_pred=y_pred.argmax(dim=1))\n",
    "        \n",
    "        # 3. Optimizer zero grad\n",
    "        optimizer.zero_grad()\n",
    "        \n",
    "        # 4. Loss backward\n",
    "        loss.backward()\n",
    "        \n",
    "        # 5. Optimizer step (updating parameters once/batch)\n",
    "        optimizer.step()\n",
    "        \n",
    "    # Divide total train loss and acc by length of train_dataloader\n",
    "    train_loss /= len(data_loader)\n",
    "    train_acc /= len(data_loader)\n",
    "    print(f\"Train loss: {train_loss:.4f} | Train acc: {train_acc:.2f}%\")"
   ]
  },
  {
   "cell_type": "code",
   "execution_count": 104,
   "metadata": {},
   "outputs": [],
   "source": [
    "def test_step(model: torch.nn.Module, \n",
    "              data_loader: torch.utils.data.DataLoader,\n",
    "              loss_fn: torch.nn.Module, \n",
    "              accuracy_fn, \n",
    "              device: torch.device = device):\n",
    "    \"\"\"Performs a testing loop step on model going over data_loader\"\"\"\n",
    "    test_loss, test_acc = 0, 0\n",
    "    \n",
    "    # Put the model in eval mode\n",
    "    model.eval()\n",
    "    \n",
    "    # Turn on inference mode\n",
    "    with torch.inference_mode():\n",
    "        for X, y in data_loader:\n",
    "            # Send data to the target device\n",
    "            X, y = X.to(device), y.to(device)\n",
    "            \n",
    "            # 1. Forward pass\n",
    "            test_pred = model(X)\n",
    "            \n",
    "            # 2. Calculate the loss/acc\n",
    "            test_loss += loss_fn(test_pred, y)\n",
    "            test_acc += accuracy_fn(y_true=y, y_pred=test_pred.argmax(dim=1))   # logits -> prediction labels\n",
    "            \n",
    "        # Adjust metrics and print out\n",
    "        test_loss /= len(data_loader)\n",
    "        test_acc /= len(data_loader)\n",
    "        print(f\"Test loss: {test_loss:.4f} | Test acc: {test_acc:.2f}%\")"
   ]
  },
  {
   "cell_type": "code",
   "execution_count": 105,
   "metadata": {},
   "outputs": [
    {
     "data": {
      "application/vnd.jupyter.widget-view+json": {
       "model_id": "f51b5ae8c01e40dabd49797d6ee243af",
       "version_major": 2,
       "version_minor": 0
      },
      "text/plain": [
       "  0%|          | 0/3 [00:00<?, ?it/s]"
      ]
     },
     "metadata": {},
     "output_type": "display_data"
    },
    {
     "name": "stdout",
     "output_type": "stream",
     "text": [
      "Epoch: 0\n",
      "----\n",
      "Train loss: 1.0920 | Train acc: 61.34%\n",
      "Test loss: 0.9564 | Test acc: 65.00%\n",
      "Epoch: 1\n",
      "----\n",
      "Train loss: 0.7810 | Train acc: 71.93%\n",
      "Test loss: 0.7223 | Test acc: 73.91%\n",
      "Epoch: 2\n",
      "----\n",
      "Train loss: 0.6703 | Train acc: 75.94%\n",
      "Test loss: 0.6850 | Test acc: 75.02%\n",
      "Train time on cpu: 30.679 seconds\n"
     ]
    }
   ],
   "source": [
    "# We can run the train and test step inside a for loop for each epoch\n",
    "\n",
    "torch.manual_seed(42)\n",
    "\n",
    "from timeit import default_timer as timer\n",
    "train_time_start = timer()\n",
    "\n",
    "epochs = 3\n",
    "for epoch in tqdm(range(epochs)):\n",
    "    print(f\"Epoch: {epoch}\\n----\")\n",
    "    train_step(data_loader=train_dataloader, model=model_1, loss_fn=loss_fn, optimizer=optimizer, accuracy_fn=accuracy_fn)\n",
    "    test_step(data_loader=test_dataloader, model=model_1, loss_fn=loss_fn, accuracy_fn=accuracy_fn)\n",
    "\n",
    "train_time_end = timer()\n",
    "total_train_time_end_model_1 = print_train_time(start=train_time_start, end=train_time_end, device=device)"
   ]
  },
  {
   "cell_type": "markdown",
   "metadata": {},
   "source": [
    "### Evaluating our model"
   ]
  },
  {
   "cell_type": "code",
   "execution_count": 106,
   "metadata": {},
   "outputs": [],
   "source": [
    "# Defining define agnostic evaluation model\n",
    "torch.manual_seed(42)\n",
    "def eval_model(model: torch.nn.Module, \n",
    "               data_loader: torch.utils.data.DataLoader, \n",
    "               loss_fn: torch.nn.Module, \n",
    "               accuracy_fn, \n",
    "               device: torch.device = device):\n",
    "    \"\"\"Evaluates a given model on a given dataset.\n",
    "\n",
    "    Args:\n",
    "        model (torch.nn.Module): A PyTorch model capable of making predictions on data_loader.\n",
    "        data_loader (torch.utils.data.DataLoader): The target dataset to predict on.\n",
    "        loss_fn (torch.nn.Module): The loss function of model.\n",
    "        accuracy_fn: An accuracy function to compare the models predictions to the truth labels.\n",
    "        device (str, optional): Target device to compute on. Defaults to device.\n",
    "\n",
    "    Returns:\n",
    "        (dict): Results of model making predictions on data_loader.\n",
    "    \"\"\"\n",
    "    loss, acc = 0, 0\n",
    "    model.eval()\n",
    "    with torch.inference_mode():\n",
    "        for X, y in data_loader:\n",
    "            # Send data to the target device\n",
    "            X, y = X.to(device), y.to(device)\n",
    "            y_pred = model(X)\n",
    "            loss += loss_fn(y_pred, y)\n",
    "            acc += accuracy_fn(y_true=y, y_pred=y_pred.argmax(dim=1))\n",
    "        \n",
    "        # Scale loss and acc\n",
    "        loss /= len(data_loader)\n",
    "        acc /= len(data_loader)\n",
    "    return {\"model_name\": model.__class__.__name__, # only works when model was created with a class\n",
    "            \"model_loss\": loss.item(),\n",
    "            \"model_acc\": acc}"
   ]
  },
  {
   "cell_type": "code",
   "execution_count": 107,
   "metadata": {},
   "outputs": [
    {
     "data": {
      "text/plain": [
       "{'model_name': 'FashionMNISTModelV1',\n",
       " 'model_loss': 0.6850008964538574,\n",
       " 'model_acc': 75.01996805111821}"
      ]
     },
     "execution_count": 107,
     "metadata": {},
     "output_type": "execute_result"
    }
   ],
   "source": [
    "torch.manual_seed(42)\n",
    "\n",
    "model_1_results = eval_model(model=model_1, data_loader=test_dataloader, loss_fn=loss_fn, accuracy_fn=accuracy_fn)\n",
    "model_1_results"
   ]
  },
  {
   "cell_type": "code",
   "execution_count": 108,
   "metadata": {},
   "outputs": [
    {
     "data": {
      "text/plain": [
       "{'model_name': 'FashionMNISTModelV0',\n",
       " 'model_loss': 0.47663894295692444,\n",
       " 'model_acc': 83.42651757188499}"
      ]
     },
     "execution_count": 108,
     "metadata": {},
     "output_type": "execute_result"
    }
   ],
   "source": [
    "model_0_results             # Comparing with baseline results"
   ]
  },
  {
   "cell_type": "markdown",
   "metadata": {},
   "source": [
    "Comparing, we can conclude that adding non-linearity reduced the model performance.\n",
    "\n",
    "What can we do to improve the performance?\n",
    "1. Use a different model\n",
    "2. Use a larger dataset\n",
    "\n",
    "Let's start with using a different model"
   ]
  },
  {
   "cell_type": "markdown",
   "metadata": {},
   "source": [
    "## 7. Building a Convolutional Neural Network (CNN)\n",
    "\n",
    "We will use TinyVGG (a CNN model) to classify the images.\n",
    "\n",
    "It follows the typical structure of a CNN: `Input layer -> [Convolutional layer -> activation layer -> pooling layer] -> Output layer`, where the contents of `[Convolutional layer -> activation layer -> pooling layer]` can upscale multiple times depending on the requirement."
   ]
  },
  {
   "cell_type": "code",
   "execution_count": 109,
   "metadata": {},
   "outputs": [
    {
     "data": {
      "text/plain": [
       "FashionMNISTModelV2(\n",
       "  (block_1): Sequential(\n",
       "    (0): Conv2d(1, 10, kernel_size=(3, 3), stride=(1, 1), padding=(1, 1))\n",
       "    (1): ReLU()\n",
       "    (2): Conv2d(10, 10, kernel_size=(3, 3), stride=(1, 1), padding=(1, 1))\n",
       "    (3): ReLU()\n",
       "    (4): MaxPool2d(kernel_size=2, stride=2, padding=0, dilation=1, ceil_mode=False)\n",
       "  )\n",
       "  (block_2): Sequential(\n",
       "    (0): Conv2d(10, 10, kernel_size=(3, 3), stride=(1, 1), padding=(1, 1))\n",
       "    (1): ReLU()\n",
       "    (2): Conv2d(10, 10, kernel_size=(3, 3), stride=(1, 1), padding=(1, 1))\n",
       "    (3): ReLU()\n",
       "    (4): MaxPool2d(kernel_size=2, stride=2, padding=0, dilation=1, ceil_mode=False)\n",
       "  )\n",
       "  (classifier): Sequential(\n",
       "    (0): Flatten(start_dim=1, end_dim=-1)\n",
       "    (1): Linear(in_features=490, out_features=10, bias=True)\n",
       "  )\n",
       ")"
      ]
     },
     "execution_count": 109,
     "metadata": {},
     "output_type": "execute_result"
    }
   ],
   "source": [
    "torch.manual_seed(42)\n",
    "model_2 = FashionMNISTModelV2(input_shape=1, hidden_units=10, output_shape=len(class_names)).to(device)\n",
    "model_2"
   ]
  },
  {
   "cell_type": "markdown",
   "metadata": {},
   "source": [
    "### 7.1: Stepping through `nn.Conv2d()`\n",
    "We use `nn.Conv2d()` for images and videos, `nn.Conv1d()` for text and `nn.Conv3d()` for 3D objects.\n",
    "\n",
    "Let's test them out with some toy data."
   ]
  },
  {
   "cell_type": "code",
   "execution_count": 110,
   "metadata": {},
   "outputs": [
    {
     "name": "stdout",
     "output_type": "stream",
     "text": [
      "Image batch shape: torch.Size([32, 3, 64, 64])\n",
      "Single image shape: torch.Size([3, 64, 64])\n"
     ]
    }
   ],
   "source": [
    "torch.manual_seed(42)\n",
    "\n",
    "# Create a sample batch of random numbers with size similar to image data\n",
    "images = torch.randn(size=(32, 3, 64, 64))      # [batch_size, color channels, height, width]\n",
    "test_image = images[0]\n",
    "print(f\"Image batch shape: {images.shape}\")\n",
    "print(f\"Single image shape: {test_image.shape}\")"
   ]
  },
  {
   "cell_type": "markdown",
   "metadata": {},
   "source": [
    "The parameters of a `Conv2d` layer:\n",
    "* in_channels (int) - Number of channels in the input image.\n",
    "* out_channels (int) - Number of channels produced by the convolution.\n",
    "* kernel_size (int or tuple) - Size of the convolving kernel/filter.\n",
    "* stride (int or tuple, optional) - How big of a step the convolving kernel takes at a time. Default: 1.\n",
    "* padding (int, tuple, str) - Padding added to all four sides of input. Default: 0."
   ]
  },
  {
   "cell_type": "code",
   "execution_count": 111,
   "metadata": {},
   "outputs": [
    {
     "data": {
      "text/plain": [
       "(tensor([[[ 1.5396,  0.0516,  0.6454,  ..., -0.3673,  0.8711,  0.4256],\n",
       "          [ 0.3662,  1.0114, -0.5997,  ...,  0.8983,  0.2809, -0.2741],\n",
       "          [ 1.2664, -1.4054,  0.3727,  ..., -0.3409,  1.2191, -0.0463],\n",
       "          ...,\n",
       "          [-0.1541,  0.5132, -0.3624,  ..., -0.2360, -0.4609, -0.0035],\n",
       "          [ 0.2981, -0.2432,  1.5012,  ..., -0.6289, -0.7283, -0.5767],\n",
       "          [-0.0386, -0.0781, -0.0388,  ...,  0.2842,  0.4228, -0.1802]],\n",
       " \n",
       "         [[-0.2840, -0.0319, -0.4455,  ..., -0.7956,  1.5599, -1.2449],\n",
       "          [ 0.2753, -0.1262, -0.6541,  ..., -0.2211,  0.1999, -0.8856],\n",
       "          [-0.5404, -1.5489,  0.0249,  ..., -0.5932, -1.0913, -0.3849],\n",
       "          ...,\n",
       "          [ 0.3870, -0.4064, -0.8236,  ...,  0.1734, -0.4330, -0.4951],\n",
       "          [-0.1984, -0.6386,  1.0263,  ..., -0.9401, -0.0585, -0.7833],\n",
       "          [-0.6306, -0.2052, -0.3694,  ..., -1.3248,  0.2456, -0.7134]],\n",
       " \n",
       "         [[ 0.4414,  0.5100,  0.4846,  ..., -0.8484,  0.2638,  1.1258],\n",
       "          [ 0.8117,  0.3191, -0.0157,  ...,  1.2686,  0.2319,  0.5003],\n",
       "          [ 0.3212,  0.0485, -0.2581,  ...,  0.2258,  0.2587, -0.8804],\n",
       "          ...,\n",
       "          [-0.1144, -0.1869,  0.0160,  ..., -0.8346,  0.0974,  0.8421],\n",
       "          [ 0.2941,  0.4417,  0.5866,  ..., -0.1224,  0.4814, -0.4799],\n",
       "          [ 0.6059, -0.0415, -0.2028,  ...,  0.1170,  0.2521, -0.4372]],\n",
       " \n",
       "         ...,\n",
       " \n",
       "         [[-0.2560, -0.0477,  0.6380,  ...,  0.6436,  0.7553, -0.7055],\n",
       "          [ 1.5595, -0.2209, -0.9486,  ..., -0.4876,  0.7754,  0.0750],\n",
       "          [-0.0797,  0.2471,  1.1300,  ...,  0.1505,  0.2354,  0.9576],\n",
       "          ...,\n",
       "          [ 1.1065,  0.6839,  1.2183,  ...,  0.3015, -0.1910, -0.1902],\n",
       "          [-0.3486, -0.7173, -0.3582,  ...,  0.4917,  0.7219,  0.1513],\n",
       "          [ 0.0119,  0.1017,  0.7839,  ..., -0.3752, -0.8127, -0.1257]],\n",
       " \n",
       "         [[ 0.3841,  1.1322,  0.1620,  ...,  0.7010,  0.0109,  0.6058],\n",
       "          [ 0.1664,  0.1873,  1.5924,  ...,  0.3733,  0.9096, -0.5399],\n",
       "          [ 0.4094, -0.0861, -0.7935,  ..., -0.1285, -0.9932, -0.3013],\n",
       "          ...,\n",
       "          [ 0.2688, -0.5630, -1.1902,  ...,  0.4493,  0.5404, -0.0103],\n",
       "          [ 0.0535,  0.4411,  0.5313,  ...,  0.0148, -1.0056,  0.3759],\n",
       "          [ 0.3031, -0.1590, -0.1316,  ..., -0.5384, -0.4271, -0.4876]],\n",
       " \n",
       "         [[-1.1865, -0.7280, -1.2331,  ..., -0.9013, -0.0542, -1.5949],\n",
       "          [-0.6345, -0.5920,  0.5326,  ..., -1.0395, -0.7963, -0.0647],\n",
       "          [-0.1132,  0.5166,  0.2569,  ...,  0.5595, -1.6881,  0.9485],\n",
       "          ...,\n",
       "          [-0.0254, -0.2669,  0.1927,  ..., -0.2917,  0.1088, -0.4807],\n",
       "          [-0.2609, -0.2328,  0.1404,  ..., -0.1325, -0.8436, -0.7524],\n",
       "          [-1.1399, -0.1751, -0.8705,  ...,  0.1589,  0.3377,  0.3493]]],\n",
       "        grad_fn=<SqueezeBackward1>),\n",
       " torch.Size([3, 64, 64]),\n",
       " torch.Size([10, 62, 62]))"
      ]
     },
     "execution_count": 111,
     "metadata": {},
     "output_type": "execute_result"
    }
   ],
   "source": [
    "torch.manual_seed(42)\n",
    "\n",
    "conv_layer = nn.Conv2d(in_channels=3, out_channels=10,\n",
    "                       kernel_size=3, stride=1, padding=0       # padding='VALID' doesn't add padding and drops the end layers if necessary. padding='SAME' adds equal amount of padding to all sides but adds extra padding to right if required\n",
    "                       )\n",
    "conv_layer(test_image), test_image.shape, conv_layer(test_image).shape"
   ]
  },
  {
   "cell_type": "code",
   "execution_count": 112,
   "metadata": {},
   "outputs": [
    {
     "data": {
      "text/plain": [
       "(torch.Size([3, 64, 64]), torch.Size([10, 30, 30]))"
      ]
     },
     "execution_count": 112,
     "metadata": {},
     "output_type": "execute_result"
    }
   ],
   "source": [
    "# Trying different values for conv layer\n",
    "torch.manual_seed(42)\n",
    "\n",
    "conv_layer_2 = nn.Conv2d(in_channels=3, # same number of color channels as our input image\n",
    "                         out_channels=10,\n",
    "                         kernel_size=(5, 5), # kernel is usually a square so a tuple also works\n",
    "                         stride=2,\n",
    "                         padding=0)\n",
    "\n",
    "# Pass single image through new conv_layer_2 (this calls nn.Conv2d()'s forward() method on the input)\n",
    "test_image.shape, conv_layer_2(test_image).shape"
   ]
  },
  {
   "cell_type": "markdown",
   "metadata": {},
   "source": [
    "Shape of the image changes from `[3, 64, 64]` -> `[10, 30, 30]`\n",
    "\n",
    "Conv layer compresses the information."
   ]
  },
  {
   "cell_type": "code",
   "execution_count": 113,
   "metadata": {},
   "outputs": [
    {
     "data": {
      "text/plain": [
       "OrderedDict([('weight',\n",
       "              tensor([[[[ 0.0883,  0.0958, -0.0271,  0.1061, -0.0253],\n",
       "                        [ 0.0233, -0.0562,  0.0678,  0.1018, -0.0847],\n",
       "                        [ 0.1004,  0.0216,  0.0853,  0.0156,  0.0557],\n",
       "                        [-0.0163,  0.0890,  0.0171, -0.0539,  0.0294],\n",
       "                        [-0.0532, -0.0135, -0.0469,  0.0766, -0.0911]],\n",
       "              \n",
       "                       [[-0.0532, -0.0326, -0.0694,  0.0109, -0.1140],\n",
       "                        [ 0.1043, -0.0981,  0.0891,  0.0192, -0.0375],\n",
       "                        [ 0.0714,  0.0180,  0.0933,  0.0126, -0.0364],\n",
       "                        [ 0.0310, -0.0313,  0.0486,  0.1031,  0.0667],\n",
       "                        [-0.0505,  0.0667,  0.0207,  0.0586, -0.0704]],\n",
       "              \n",
       "                       [[-0.1143, -0.0446, -0.0886,  0.0947,  0.0333],\n",
       "                        [ 0.0478,  0.0365, -0.0020,  0.0904, -0.0820],\n",
       "                        [ 0.0073, -0.0788,  0.0356, -0.0398,  0.0354],\n",
       "                        [-0.0241,  0.0958, -0.0684, -0.0689, -0.0689],\n",
       "                        [ 0.1039,  0.0385,  0.1111, -0.0953, -0.1145]]],\n",
       "              \n",
       "              \n",
       "                      [[[-0.0903, -0.0777,  0.0468,  0.0413,  0.0959],\n",
       "                        [-0.0596, -0.0787,  0.0613, -0.0467,  0.0701],\n",
       "                        [-0.0274,  0.0661, -0.0897, -0.0583,  0.0352],\n",
       "                        [ 0.0244, -0.0294,  0.0688,  0.0785, -0.0837],\n",
       "                        [-0.0616,  0.1057, -0.0390, -0.0409, -0.1117]],\n",
       "              \n",
       "                       [[-0.0661,  0.0288, -0.0152, -0.0838,  0.0027],\n",
       "                        [-0.0789, -0.0980, -0.0636, -0.1011, -0.0735],\n",
       "                        [ 0.1154,  0.0218,  0.0356, -0.1077, -0.0758],\n",
       "                        [-0.0384,  0.0181, -0.1016, -0.0498, -0.0691],\n",
       "                        [ 0.0003, -0.0430, -0.0080, -0.0782, -0.0793]],\n",
       "              \n",
       "                       [[-0.0674, -0.0395, -0.0911,  0.0968, -0.0229],\n",
       "                        [ 0.0994,  0.0360, -0.0978,  0.0799, -0.0318],\n",
       "                        [-0.0443, -0.0958, -0.1148,  0.0330, -0.0252],\n",
       "                        [ 0.0450, -0.0948,  0.0857, -0.0848, -0.0199],\n",
       "                        [ 0.0241,  0.0596,  0.0932,  0.1052, -0.0916]]],\n",
       "              \n",
       "              \n",
       "                      [[[ 0.0291, -0.0497, -0.0127, -0.0864,  0.1052],\n",
       "                        [-0.0847,  0.0617,  0.0406,  0.0375, -0.0624],\n",
       "                        [ 0.1050,  0.0254,  0.0149, -0.1018,  0.0485],\n",
       "                        [-0.0173, -0.0529,  0.0992,  0.0257, -0.0639],\n",
       "                        [-0.0584, -0.0055,  0.0645, -0.0295, -0.0659]],\n",
       "              \n",
       "                       [[-0.0395, -0.0863,  0.0412,  0.0894, -0.1087],\n",
       "                        [ 0.0268,  0.0597,  0.0209, -0.0411,  0.0603],\n",
       "                        [ 0.0607,  0.0432, -0.0203, -0.0306,  0.0124],\n",
       "                        [-0.0204, -0.0344,  0.0738,  0.0992, -0.0114],\n",
       "                        [-0.0259,  0.0017, -0.0069,  0.0278,  0.0324]],\n",
       "              \n",
       "                       [[-0.1049, -0.0426,  0.0972,  0.0450, -0.0057],\n",
       "                        [-0.0696, -0.0706, -0.1034, -0.0376,  0.0390],\n",
       "                        [ 0.0736,  0.0533, -0.1021, -0.0694, -0.0182],\n",
       "                        [ 0.1117,  0.0167, -0.0299,  0.0478, -0.0440],\n",
       "                        [-0.0747,  0.0843, -0.0525, -0.0231, -0.1149]]],\n",
       "              \n",
       "              \n",
       "                      [[[ 0.0773,  0.0875,  0.0421, -0.0805, -0.1140],\n",
       "                        [-0.0938,  0.0861,  0.0554,  0.0972,  0.0605],\n",
       "                        [ 0.0292, -0.0011, -0.0878, -0.0989, -0.1080],\n",
       "                        [ 0.0473, -0.0567, -0.0232, -0.0665, -0.0210],\n",
       "                        [-0.0813, -0.0754,  0.0383, -0.0343,  0.0713]],\n",
       "              \n",
       "                       [[-0.0370, -0.0847, -0.0204, -0.0560, -0.0353],\n",
       "                        [-0.1099,  0.0646, -0.0804,  0.0580,  0.0524],\n",
       "                        [ 0.0825, -0.0886,  0.0830, -0.0546,  0.0428],\n",
       "                        [ 0.1084, -0.0163, -0.0009, -0.0266, -0.0964],\n",
       "                        [ 0.0554, -0.1146,  0.0717,  0.0864,  0.1092]],\n",
       "              \n",
       "                       [[-0.0272, -0.0949,  0.0260,  0.0638, -0.1149],\n",
       "                        [-0.0262, -0.0692, -0.0101, -0.0568, -0.0472],\n",
       "                        [-0.0367, -0.1097,  0.0947,  0.0968, -0.0181],\n",
       "                        [-0.0131, -0.0471, -0.1043, -0.1124,  0.0429],\n",
       "                        [-0.0634, -0.0742, -0.0090, -0.0385, -0.0374]]],\n",
       "              \n",
       "              \n",
       "                      [[[ 0.0037, -0.0245, -0.0398, -0.0553, -0.0940],\n",
       "                        [ 0.0968, -0.0462,  0.0306, -0.0401,  0.0094],\n",
       "                        [ 0.1077,  0.0532, -0.1001,  0.0458,  0.1096],\n",
       "                        [ 0.0304,  0.0774,  0.1138, -0.0177,  0.0240],\n",
       "                        [-0.0803, -0.0238,  0.0855,  0.0592, -0.0731]],\n",
       "              \n",
       "                       [[-0.0926, -0.0789, -0.1140, -0.0891, -0.0286],\n",
       "                        [ 0.0779,  0.0193, -0.0878, -0.0926,  0.0574],\n",
       "                        [-0.0859, -0.0142,  0.0554, -0.0534, -0.0126],\n",
       "                        [-0.0101, -0.0273, -0.0585, -0.1029, -0.0933],\n",
       "                        [-0.0618,  0.1115, -0.0558, -0.0775,  0.0280]],\n",
       "              \n",
       "                       [[ 0.0318,  0.0633,  0.0878,  0.0643, -0.1145],\n",
       "                        [ 0.0102,  0.0699, -0.0107, -0.0680,  0.1101],\n",
       "                        [-0.0432, -0.0657, -0.1041,  0.0052,  0.0512],\n",
       "                        [ 0.0256,  0.0228, -0.0876, -0.1078,  0.0020],\n",
       "                        [ 0.1053,  0.0666, -0.0672, -0.0150, -0.0851]]],\n",
       "              \n",
       "              \n",
       "                      [[[-0.0557,  0.0209,  0.0629,  0.0957, -0.1060],\n",
       "                        [ 0.0772, -0.0814,  0.0432,  0.0977,  0.0016],\n",
       "                        [ 0.1051, -0.0984, -0.0441,  0.0673, -0.0252],\n",
       "                        [-0.0236, -0.0481,  0.0796,  0.0566,  0.0370],\n",
       "                        [-0.0649, -0.0937,  0.0125,  0.0342, -0.0533]],\n",
       "              \n",
       "                       [[-0.0323,  0.0780,  0.0092,  0.0052, -0.0284],\n",
       "                        [-0.1046, -0.1086, -0.0552, -0.0587,  0.0360],\n",
       "                        [-0.0336, -0.0452,  0.1101,  0.0402,  0.0823],\n",
       "                        [-0.0559, -0.0472,  0.0424, -0.0769, -0.0755],\n",
       "                        [-0.0056, -0.0422, -0.0866,  0.0685,  0.0929]],\n",
       "              \n",
       "                       [[ 0.0187, -0.0201, -0.1070, -0.0421,  0.0294],\n",
       "                        [ 0.0544, -0.0146, -0.0457,  0.0643, -0.0920],\n",
       "                        [ 0.0730, -0.0448,  0.0018, -0.0228,  0.0140],\n",
       "                        [-0.0349,  0.0840, -0.0030,  0.0901,  0.1110],\n",
       "                        [-0.0563, -0.0842,  0.0926,  0.0905, -0.0882]]],\n",
       "              \n",
       "              \n",
       "                      [[[-0.0089, -0.1139, -0.0945,  0.0223,  0.0307],\n",
       "                        [ 0.0245, -0.0314,  0.1065,  0.0165, -0.0681],\n",
       "                        [-0.0065,  0.0277,  0.0404, -0.0816,  0.0433],\n",
       "                        [-0.0590, -0.0959, -0.0631,  0.1114,  0.0987],\n",
       "                        [ 0.1034,  0.0678,  0.0872, -0.0155, -0.0635]],\n",
       "              \n",
       "                       [[ 0.0577, -0.0598, -0.0779, -0.0369,  0.0242],\n",
       "                        [ 0.0594, -0.0448, -0.0680,  0.0156, -0.0681],\n",
       "                        [-0.0752,  0.0602, -0.0194,  0.1055,  0.1123],\n",
       "                        [ 0.0345,  0.0397,  0.0266,  0.0018, -0.0084],\n",
       "                        [ 0.0016,  0.0431,  0.1074, -0.0299, -0.0488]],\n",
       "              \n",
       "                       [[-0.0280, -0.0558,  0.0196,  0.0862,  0.0903],\n",
       "                        [ 0.0530, -0.0850, -0.0620, -0.0254, -0.0213],\n",
       "                        [ 0.0095, -0.1060,  0.0359, -0.0881, -0.0731],\n",
       "                        [-0.0960,  0.1006, -0.1093,  0.0871, -0.0039],\n",
       "                        [-0.0134,  0.0722, -0.0107,  0.0724,  0.0835]]],\n",
       "              \n",
       "              \n",
       "                      [[[-0.1003,  0.0444,  0.0218,  0.0248,  0.0169],\n",
       "                        [ 0.0316, -0.0555, -0.0148,  0.1097,  0.0776],\n",
       "                        [-0.0043, -0.1086,  0.0051, -0.0786,  0.0939],\n",
       "                        [-0.0701, -0.0083, -0.0256,  0.0205,  0.1087],\n",
       "                        [ 0.0110,  0.0669,  0.0896,  0.0932, -0.0399]],\n",
       "              \n",
       "                       [[-0.0258,  0.0556, -0.0315,  0.0541, -0.0252],\n",
       "                        [-0.0783,  0.0470,  0.0177,  0.0515,  0.1147],\n",
       "                        [ 0.0788,  0.1095,  0.0062, -0.0993, -0.0810],\n",
       "                        [-0.0717, -0.1018, -0.0579, -0.1063, -0.1065],\n",
       "                        [-0.0690, -0.1138, -0.0709,  0.0440,  0.0963]],\n",
       "              \n",
       "                       [[-0.0343, -0.0336,  0.0617, -0.0570, -0.0546],\n",
       "                        [ 0.0711, -0.1006,  0.0141,  0.1020,  0.0198],\n",
       "                        [ 0.0314, -0.0672, -0.0016,  0.0063,  0.0283],\n",
       "                        [ 0.0449,  0.1003, -0.0881,  0.0035, -0.0577],\n",
       "                        [-0.0913, -0.0092, -0.1016,  0.0806,  0.0134]]],\n",
       "              \n",
       "              \n",
       "                      [[[-0.0622,  0.0603, -0.1093, -0.0447, -0.0225],\n",
       "                        [-0.0981, -0.0734, -0.0188,  0.0876,  0.1115],\n",
       "                        [ 0.0735, -0.0689, -0.0755,  0.1008,  0.0408],\n",
       "                        [ 0.0031,  0.0156, -0.0928, -0.0386,  0.1112],\n",
       "                        [-0.0285, -0.0058, -0.0959, -0.0646, -0.0024]],\n",
       "              \n",
       "                       [[-0.0717, -0.0143,  0.0470, -0.1130,  0.0343],\n",
       "                        [-0.0763, -0.0564,  0.0443,  0.0918, -0.0316],\n",
       "                        [-0.0474, -0.1044, -0.0595, -0.1011, -0.0264],\n",
       "                        [ 0.0236, -0.1082,  0.1008,  0.0724, -0.1130],\n",
       "                        [-0.0552,  0.0377, -0.0237, -0.0126, -0.0521]],\n",
       "              \n",
       "                       [[ 0.0927, -0.0645,  0.0958,  0.0075,  0.0232],\n",
       "                        [ 0.0901, -0.0190, -0.0657, -0.0187,  0.0937],\n",
       "                        [-0.0857,  0.0262, -0.1135,  0.0605,  0.0427],\n",
       "                        [ 0.0049,  0.0496,  0.0001,  0.0639, -0.0914],\n",
       "                        [-0.0170,  0.0512,  0.1150,  0.0588, -0.0840]]],\n",
       "              \n",
       "              \n",
       "                      [[[ 0.0888, -0.0257, -0.0247, -0.1050, -0.0182],\n",
       "                        [ 0.0817,  0.0161, -0.0673,  0.0355, -0.0370],\n",
       "                        [ 0.1054, -0.1002, -0.0365, -0.1115, -0.0455],\n",
       "                        [ 0.0364,  0.1112,  0.0194,  0.1132,  0.0226],\n",
       "                        [ 0.0667,  0.0926,  0.0965, -0.0646,  0.1062]],\n",
       "              \n",
       "                       [[ 0.0699, -0.0540, -0.0551, -0.0969,  0.0290],\n",
       "                        [-0.0936,  0.0488,  0.0365, -0.1003,  0.0315],\n",
       "                        [-0.0094,  0.0527,  0.0663, -0.1148,  0.1059],\n",
       "                        [ 0.0968,  0.0459, -0.1055, -0.0412, -0.0335],\n",
       "                        [-0.0297,  0.0651,  0.0420,  0.0915, -0.0432]],\n",
       "              \n",
       "                       [[ 0.0389,  0.0411, -0.0961, -0.1120, -0.0599],\n",
       "                        [ 0.0790, -0.1087, -0.1005,  0.0647,  0.0623],\n",
       "                        [ 0.0950, -0.0872, -0.0845,  0.0592,  0.1004],\n",
       "                        [ 0.0691,  0.0181,  0.0381,  0.1096, -0.0745],\n",
       "                        [-0.0524,  0.0808, -0.0790, -0.0637,  0.0843]]]])),\n",
       "             ('bias',\n",
       "              tensor([ 0.0364,  0.0373, -0.0489, -0.0016,  0.1057, -0.0693,  0.0009,  0.0549,\n",
       "                      -0.0797,  0.1121]))])"
      ]
     },
     "execution_count": 113,
     "metadata": {},
     "output_type": "execute_result"
    }
   ],
   "source": [
    "# Checking our conv layer's state dict\n",
    "conv_layer_2.state_dict()"
   ]
  },
  {
   "cell_type": "markdown",
   "metadata": {},
   "source": [
    "### 7.2: Stepping through `nn.MaxPool2d()`"
   ]
  },
  {
   "cell_type": "code",
   "execution_count": 114,
   "metadata": {},
   "outputs": [
    {
     "name": "stdout",
     "output_type": "stream",
     "text": [
      "Original test image shape: torch.Size([3, 64, 64])\n",
      "Shape after going through conv layer: torch.Size([10, 62, 62])\n",
      "Shape after going through conv and maxpool layer: torch.Size([10, 31, 31])\n"
     ]
    }
   ],
   "source": [
    "print(f\"Original test image shape: {test_image.shape}\")\n",
    "\n",
    "# Create a sample MaxPool layer\n",
    "max_pool_layer = nn.MaxPool2d(kernel_size=2)\n",
    "\n",
    "# Pass data through the conv layer\n",
    "test_image_through_conv = conv_layer(test_image)\n",
    "print(f\"Shape after going through conv layer: {test_image_through_conv.shape}\")\n",
    "\n",
    " # Pass data through the max pool layer\n",
    "test_image_through_conv_and_max_pool = max_pool_layer(test_image_through_conv)\n",
    "print(f\"Shape after going through conv and maxpool layer: {test_image_through_conv_and_max_pool.shape}\")"
   ]
  },
  {
   "cell_type": "markdown",
   "metadata": {},
   "source": [
    "As kernel size = 2 and stride = 2, the 2nd and 3rd layer are halved after the `MaxPool2d()` layer."
   ]
  },
  {
   "cell_type": "code",
   "execution_count": 115,
   "metadata": {},
   "outputs": [
    {
     "name": "stdout",
     "output_type": "stream",
     "text": [
      "Random tensor:\n",
      "tensor([[[[0.3367, 0.1288],\n",
      "          [0.2345, 0.2303]]]])\n",
      "Random tensor shape: torch.Size([1, 1, 2, 2])\n",
      "\n",
      "\n",
      "Max pool tensor:tensor([[[[0.3367]]]]) <- maximum value from our tensor\n",
      "Max pool tensor shape: torch.Size([1, 1, 1, 1])\n"
     ]
    }
   ],
   "source": [
    "# Seeing the same with a smaller tensor\n",
    "\n",
    "torch.manual_seed(42)\n",
    "\n",
    "random_tensor=torch.randn(size=(1, 1, 2, 2))\n",
    "print(f\"Random tensor:\\n{random_tensor}\")\n",
    "print(f\"Random tensor shape: {random_tensor.shape}\")\n",
    "\n",
    "# Max pool layer\n",
    "max_pool_layer = nn.MaxPool2d(kernel_size=2)\n",
    "\n",
    "# Passing the tensor through the maxpool layer\n",
    "max_pool_tensor = max_pool_layer(random_tensor)\n",
    "print(f\"\\n\\nMax pool tensor:{max_pool_tensor} <- maximum value from our tensor\")\n",
    "print(f\"Max pool tensor shape: {max_pool_tensor.shape}\")"
   ]
  },
  {
   "cell_type": "markdown",
   "metadata": {},
   "source": [
    "The dimensions halve from `[2, 2]` to `[1, 1]`. This would differ based on the values of `kernel_size` and `nn.MaxPool2d()`\n",
    "\n",
    "> Basically each layer in a neural network is trying to compress data from higher dimensional space to lower dimensional space.\n",
    "\n",
    "It takes in raw data (entire image), learns patterns that are predictive, retains them while being smaller in size than the original values.\n",
    "\n",
    "From an AI perspective, the whole goal is to compress, yet preserve information.\n",
    "\n",
    "So the `MaxPool2d()` simply takes the maximum value of from a portion of the tensor and disregards the rest. Lowering the dimensionality while also hopefully preserving the signficant portion of the information."
   ]
  },
  {
   "cell_type": "markdown",
   "metadata": {},
   "source": [
    "The `Conv2d()` layers performs a convolution operation, which gives us a feature map that highlights specific patterns, the `MaxPool2d()` layer then operates on this feature map.\n",
    "\n",
    "Convolutions are calculated by computing the dot products.\n",
    "\n",
    "E.g. for input image\n",
    "\\begin{matrix}\n",
    "1, 2, 0 \\\\\n",
    "4, 5, 6 \\\\\n",
    "7, 8, 9\n",
    "\\end{matrix}\n",
    "\n",
    "and a filter\n",
    "\\begin{matrix}\n",
    "1, 0 \\\\\n",
    "0, 1\n",
    "\\end{matrix}\n",
    "\n",
    "Assuming `stride`=1 and `padding`=0, the operation will be performed as follows:\n",
    "1. Filter at the top left position (to calculate `A11` of the feature map):\n",
    "$ (1 * 1) + (2 * 0) + (4 * 0) + (1 * 5) = 6 $\n",
    "2. Shift the filter right by 1 pixel (as stride=1) to compute the `A12` of feature map:\n",
    "$ (2 * 1) + (0 * 0) + (5 * 0) + (6 * 1) = 8 $\n",
    "\n",
    "Similarly we move the filter down 1 pixel and then left by 1 pixel to calculate `A21` and `A22` of the feature map.\n",
    "\n",
    "The resulting feature map looks like:\n",
    "\\begin{matrix}\n",
    "6, 8 \\\\\n",
    "12, 14 \\\\\n",
    "\\end{matrix}\n",
    "\n",
    "If there's a bias term, we add it to each element of the feature map and applying ReLU activation function.\n",
    "\n",
    "Similarly, if we had a 4x4 matrix with stride = 1 and padding = 0, then we would have a 3x3 feature map."
   ]
  },
  {
   "cell_type": "markdown",
   "metadata": {},
   "source": [
    "### 7.3 Setup a loss function and optimizer for `model_2`"
   ]
  },
  {
   "cell_type": "code",
   "execution_count": 116,
   "metadata": {},
   "outputs": [],
   "source": [
    "# Setup loss and optimizer\n",
    "loss_fn = nn.CrossEntropyLoss()\n",
    "optimizer = torch.optim.SGD(params=model_2.parameters(), lr=0.1)"
   ]
  },
  {
   "cell_type": "markdown",
   "metadata": {},
   "source": [
    "### 7.4: Training & Testing our model"
   ]
  },
  {
   "cell_type": "code",
   "execution_count": 117,
   "metadata": {},
   "outputs": [
    {
     "data": {
      "application/vnd.jupyter.widget-view+json": {
       "model_id": "8872bef46f974f43be671a7cf1286b6d",
       "version_major": 2,
       "version_minor": 0
      },
      "text/plain": [
       "  0%|          | 0/3 [00:00<?, ?it/s]"
      ]
     },
     "metadata": {},
     "output_type": "display_data"
    },
    {
     "name": "stdout",
     "output_type": "stream",
     "text": [
      "Epoch: 0\n",
      "---\n",
      "Train loss: 0.5905 | Train acc: 78.60%\n",
      "Test loss: 0.3954 | Test acc: 86.17%\n",
      "Epoch: 1\n",
      "---\n",
      "Train loss: 0.3596 | Train acc: 87.06%\n",
      "Test loss: 0.3568 | Test acc: 86.91%\n",
      "Epoch: 2\n",
      "---\n",
      "Train loss: 0.3241 | Train acc: 88.17%\n",
      "Test loss: 0.3249 | Test acc: 88.24%\n",
      "Train time on cpu: 83.572 seconds\n"
     ]
    }
   ],
   "source": [
    "torch.manual_seed(42)\n",
    "\n",
    "from timeit import default_timer as timer\n",
    "train_time_start_model_2 = timer()\n",
    "\n",
    "# Train and test model\n",
    "epochs = 3\n",
    "for epoch in tqdm(range(epochs)):\n",
    "    print(f\"Epoch: {epoch}\\n---\")\n",
    "    train_step(data_loader=train_dataloader, model=model_2, loss_fn=loss_fn, optimizer=optimizer, accuracy_fn=accuracy_fn, device=device)\n",
    "    test_step(data_loader=test_dataloader, model=model_2, loss_fn=loss_fn, accuracy_fn=accuracy_fn, device=device)\n",
    "\n",
    "train_time_end_model_2 = timer()\n",
    "total_train_time_model_2 = print_train_time(start=train_time_start_model_2, end=train_time_end_model_2, device=device)"
   ]
  },
  {
   "cell_type": "code",
   "execution_count": 118,
   "metadata": {},
   "outputs": [
    {
     "data": {
      "text/plain": [
       "{'model_name': 'FashionMNISTModelV2',\n",
       " 'model_loss': 0.3249143064022064,\n",
       " 'model_acc': 88.2388178913738}"
      ]
     },
     "execution_count": 118,
     "metadata": {},
     "output_type": "execute_result"
    }
   ],
   "source": [
    "# Evaluating our model\n",
    "model_2_results = eval_model(model=model_2, data_loader=test_dataloader, loss_fn=loss_fn, accuracy_fn=accuracy_fn)\n",
    "model_2_results"
   ]
  },
  {
   "cell_type": "markdown",
   "metadata": {},
   "source": [
    "## 8. Compare model results and training time\n",
    "\n",
    "It is a common practice to build multiple models (training experiments) to see which one performs the best."
   ]
  },
  {
   "cell_type": "code",
   "execution_count": 119,
   "metadata": {},
   "outputs": [
    {
     "data": {
      "text/html": [
       "<div>\n",
       "<style scoped>\n",
       "    .dataframe tbody tr th:only-of-type {\n",
       "        vertical-align: middle;\n",
       "    }\n",
       "\n",
       "    .dataframe tbody tr th {\n",
       "        vertical-align: top;\n",
       "    }\n",
       "\n",
       "    .dataframe thead th {\n",
       "        text-align: right;\n",
       "    }\n",
       "</style>\n",
       "<table border=\"1\" class=\"dataframe\">\n",
       "  <thead>\n",
       "    <tr style=\"text-align: right;\">\n",
       "      <th></th>\n",
       "      <th>model_name</th>\n",
       "      <th>model_loss</th>\n",
       "      <th>model_acc</th>\n",
       "    </tr>\n",
       "  </thead>\n",
       "  <tbody>\n",
       "    <tr>\n",
       "      <th>0</th>\n",
       "      <td>FashionMNISTModelV0</td>\n",
       "      <td>0.476639</td>\n",
       "      <td>83.426518</td>\n",
       "    </tr>\n",
       "    <tr>\n",
       "      <th>1</th>\n",
       "      <td>FashionMNISTModelV1</td>\n",
       "      <td>0.685001</td>\n",
       "      <td>75.019968</td>\n",
       "    </tr>\n",
       "    <tr>\n",
       "      <th>2</th>\n",
       "      <td>FashionMNISTModelV2</td>\n",
       "      <td>0.324914</td>\n",
       "      <td>88.238818</td>\n",
       "    </tr>\n",
       "  </tbody>\n",
       "</table>\n",
       "</div>"
      ],
      "text/plain": [
       "            model_name  model_loss  model_acc\n",
       "0  FashionMNISTModelV0    0.476639  83.426518\n",
       "1  FashionMNISTModelV1    0.685001  75.019968\n",
       "2  FashionMNISTModelV2    0.324914  88.238818"
      ]
     },
     "execution_count": 119,
     "metadata": {},
     "output_type": "execute_result"
    }
   ],
   "source": [
    "# Combining our model results dictionary into a dataframe\n",
    "import pandas as pd\n",
    "compare_results = pd.DataFrame([model_0_results, model_1_results, model_2_results])\n",
    "compare_results"
   ]
  },
  {
   "cell_type": "code",
   "execution_count": 120,
   "metadata": {},
   "outputs": [
    {
     "data": {
      "text/html": [
       "<div>\n",
       "<style scoped>\n",
       "    .dataframe tbody tr th:only-of-type {\n",
       "        vertical-align: middle;\n",
       "    }\n",
       "\n",
       "    .dataframe tbody tr th {\n",
       "        vertical-align: top;\n",
       "    }\n",
       "\n",
       "    .dataframe thead th {\n",
       "        text-align: right;\n",
       "    }\n",
       "</style>\n",
       "<table border=\"1\" class=\"dataframe\">\n",
       "  <thead>\n",
       "    <tr style=\"text-align: right;\">\n",
       "      <th></th>\n",
       "      <th>model_name</th>\n",
       "      <th>model_loss</th>\n",
       "      <th>model_acc</th>\n",
       "      <th>training_time</th>\n",
       "    </tr>\n",
       "  </thead>\n",
       "  <tbody>\n",
       "    <tr>\n",
       "      <th>0</th>\n",
       "      <td>FashionMNISTModelV0</td>\n",
       "      <td>0.476639</td>\n",
       "      <td>83.426518</td>\n",
       "      <td>31.638696</td>\n",
       "    </tr>\n",
       "    <tr>\n",
       "      <th>1</th>\n",
       "      <td>FashionMNISTModelV1</td>\n",
       "      <td>0.685001</td>\n",
       "      <td>75.019968</td>\n",
       "      <td>30.678563</td>\n",
       "    </tr>\n",
       "    <tr>\n",
       "      <th>2</th>\n",
       "      <td>FashionMNISTModelV2</td>\n",
       "      <td>0.324914</td>\n",
       "      <td>88.238818</td>\n",
       "      <td>83.572035</td>\n",
       "    </tr>\n",
       "  </tbody>\n",
       "</table>\n",
       "</div>"
      ],
      "text/plain": [
       "            model_name  model_loss  model_acc  training_time\n",
       "0  FashionMNISTModelV0    0.476639  83.426518      31.638696\n",
       "1  FashionMNISTModelV1    0.685001  75.019968      30.678563\n",
       "2  FashionMNISTModelV2    0.324914  88.238818      83.572035"
      ]
     },
     "execution_count": 120,
     "metadata": {},
     "output_type": "execute_result"
    }
   ],
   "source": [
    "# Adding training time values, as they're an important factor too\n",
    "compare_results['training_time'] = [total_train_time_model_0, total_train_time_end_model_1, total_train_time_model_2]\n",
    "compare_results"
   ]
  },
  {
   "cell_type": "markdown",
   "metadata": {},
   "source": [
    "Our CNN model performed the best but also took 3x more time to train as compared to our baseline model.\n",
    "\n",
    "**Performance-Speed Tradeoff**: Generally, larger, more complex models perform better but this performance increase normally comes at the cost of training and inference speed."
   ]
  },
  {
   "cell_type": "code",
   "execution_count": 121,
   "metadata": {},
   "outputs": [
    {
     "data": {
      "text/plain": [
       "Text(0, 0.5, 'Accuracy')"
      ]
     },
     "execution_count": 121,
     "metadata": {},
     "output_type": "execute_result"
    },
    {
     "data": {
      "image/png": "[encoded data removed]",
      "text/plain": [
       "<Figure size 640x480 with 1 Axes>"
      ]
     },
     "metadata": {},
     "output_type": "display_data"
    }
   ],
   "source": [
    "# Visualizing our model results\n",
    "compare_results.set_index('model_name')['model_acc'].plot(kind='bar')\n",
    "plt.xlabel(\"Model\")\n",
    "plt.xticks(rotation=0)\n",
    "plt.ylabel(\"Accuracy\")"
   ]
  },
  {
   "cell_type": "markdown",
   "metadata": {},
   "source": [
    "## 9. Make and evaluate random predictions with our best model"
   ]
  },
  {
   "cell_type": "code",
   "execution_count": 122,
   "metadata": {},
   "outputs": [],
   "source": [
    "# Creating make_predictions() function\n",
    "\n",
    "def make_predictions(model: torch.nn.Module, data: list, device: torch.device = device):\n",
    "    pred_probs = []\n",
    "    model.eval()\n",
    "    with torch.inference_mode():\n",
    "        for sample in data:\n",
    "            # Prepare sample\n",
    "            sample = torch.unsqueeze(sample, dim=0).to(device)      # Adding an extra dimension, necessary for older PyTorch versions\n",
    "            \n",
    "            # Forward pass (model outputs raw logits)\n",
    "            pred_logit = model(sample)\n",
    "            \n",
    "            # Get prediction probability (logits -> prediction probaility)\n",
    "            pred_prob = torch.softmax(pred_logit.squeeze(), dim=0)  # NOTE: perform softmax on the \"logits\" dimension, not \"batch\" dimension (in this case we have a batch size of 1, so can perform on dim=0)\n",
    "            \n",
    "            # Get pred prob off GPU for further calculations\n",
    "            pred_probs.append(pred_prob.cpu())\n",
    "        \n",
    "        # Stack the pred probs to turn list into tensor\n",
    "        return torch.stack(pred_probs)"
   ]
  },
  {
   "cell_type": "code",
   "execution_count": 123,
   "metadata": {},
   "outputs": [
    {
     "name": "stdout",
     "output_type": "stream",
     "text": [
      "Test sample image shape: torch.Size([1, 28, 28])\n",
      "Test sample label: 1 (Trouser)\n"
     ]
    }
   ],
   "source": [
    "import random\n",
    "torch.manual_seed(42)\n",
    "test_samples = []\n",
    "test_labels = []\n",
    "\n",
    "# To get 9 random samples and labels from our test data\n",
    "for sample, label in random.sample(list(test_data), k=9):\n",
    "    test_samples.append(sample)\n",
    "    test_labels.append(label)\n",
    "\n",
    "# View the 1st test sample shape and label\n",
    "print(f\"Test sample image shape: {test_samples[0].shape}\\nTest sample label: {test_labels[0]} ({class_names[test_labels[0]]})\")"
   ]
  },
  {
   "cell_type": "code",
   "execution_count": 124,
   "metadata": {},
   "outputs": [
    {
     "data": {
      "text/plain": [
       "tensor([[1.7820e-04, 9.9861e-01, 4.7618e-06, 4.5334e-04, 7.4014e-04, 1.7214e-07,\n",
       "         7.3074e-06, 6.0210e-07, 1.8111e-06, 9.3726e-09],\n",
       "        [1.8708e-05, 5.3221e-06, 8.7311e-06, 1.2389e-06, 8.6759e-06, 2.0702e-03,\n",
       "         1.4519e-05, 9.7327e-01, 7.5234e-04, 2.3847e-02]])"
      ]
     },
     "execution_count": 124,
     "metadata": {},
     "output_type": "execute_result"
    }
   ],
   "source": [
    "# Make predictions on test samples with model 2\n",
    "pred_probs = make_predictions(model=model_2, data=test_samples)\n",
    "\n",
    "# View first 2 prediction probabilities list\n",
    "pred_probs[:2]"
   ]
  },
  {
   "cell_type": "code",
   "execution_count": 125,
   "metadata": {},
   "outputs": [
    {
     "data": {
      "text/plain": [
       "tensor([1, 7, 3, 9, 9, 2, 9, 2, 4])"
      ]
     },
     "execution_count": 125,
     "metadata": {},
     "output_type": "execute_result"
    }
   ],
   "source": [
    "# Get prediction labels from the prediction probabilities using argmax\n",
    "pred_classes = pred_probs.argmax(dim=1)\n",
    "pred_classes"
   ]
  },
  {
   "cell_type": "code",
   "execution_count": 126,
   "metadata": {},
   "outputs": [
    {
     "data": {
      "text/plain": [
       "([1, 7, 3, 9, 9, 2, 9, 2, 4], tensor([1, 7, 3, 9, 9, 2, 9, 2, 4]))"
      ]
     },
     "execution_count": 126,
     "metadata": {},
     "output_type": "execute_result"
    }
   ],
   "source": [
    "test_labels, pred_classes"
   ]
  },
  {
   "cell_type": "markdown",
   "metadata": {},
   "source": [
    "Our model predicted correctly 9/10 times. Let's visualize the same."
   ]
  },
  {
   "cell_type": "code",
   "execution_count": 127,
   "metadata": {},
   "outputs": [
    {
     "data": {
      "image/png": "[encoded data removed]",
      "text/plain": [
       "<Figure size 900x900 with 9 Axes>"
      ]
     },
     "metadata": {},
     "output_type": "display_data"
    }
   ],
   "source": [
    "# Plot predictions\n",
    "plt.figure(figsize=(9, 9))\n",
    "nrows, ncols = 3, 3\n",
    "for i, sample in enumerate(test_samples):\n",
    "    # Create a subplot\n",
    "    plt.subplot(nrows, ncols, i+1)\n",
    "    \n",
    "    # Plot the target image\n",
    "    plt.imshow(sample.squeeze(), cmap=\"gray\")\n",
    "    \n",
    "    # Find the prediction label (in text form, e.g. Sandal)\n",
    "    pred_label = class_names[pred_classes[i]]\n",
    "    \n",
    "    # Get the truth label in text form\n",
    "    truth_label = class_names[test_labels[i]]\n",
    "    \n",
    "    # Create the title text of the plot\n",
    "    title_text = f\"Pred: {pred_label} | Truth: {truth_label}\"\n",
    "    \n",
    "    # Check for equality and change title colour accordingly\n",
    "    if pred_label == truth_label:\n",
    "        plt.title(title_text, fontsize=10, c=\"g\") # green text if correct\n",
    "    else:\n",
    "        plt.title(title_text, fontsize=10, c=\"r\") # red text if wrong\n",
    "    plt.axis(False)"
   ]
  },
  {
   "cell_type": "markdown",
   "metadata": {},
   "source": [
    "## 10. Making a confusion matrix for further prediction evaluation"
   ]
  },
  {
   "cell_type": "code",
   "execution_count": 128,
   "metadata": {},
   "outputs": [
    {
     "data": {
      "application/vnd.jupyter.widget-view+json": {
       "model_id": "5ff3749efea941aebf5d1f0348444299",
       "version_major": 2,
       "version_minor": 0
      },
      "text/plain": [
       "Making predictions:   0%|          | 0/313 [00:00<?, ?it/s]"
      ]
     },
     "metadata": {},
     "output_type": "display_data"
    }
   ],
   "source": [
    "# 1. Make predictions with trained model\n",
    "y_preds = []\n",
    "model_2.eval()\n",
    "with torch.inference_mode():\n",
    "  for X, y in tqdm(test_dataloader, desc=\"Making predictions\"):\n",
    "    # Send data and targets to target device\n",
    "    X, y = X.to(device), y.to(device)\n",
    "    # Do the forward pass\n",
    "    y_logit = model_2(X)\n",
    "    # Turn predictions from logits -> prediction probabilities -> predictions labels\n",
    "    y_pred = torch.softmax(y_logit, dim=1).argmax(dim=1) # note: perform softmax on the \"logits\" dimension, not \"batch\" dimension (in this case we have a batch size of 32, so can perform on dim=1)\n",
    "    # Put predictions on CPU for evaluation\n",
    "    y_preds.append(y_pred.cpu())\n",
    "# Concatenate list of predictions into a tensor\n",
    "y_pred_tensor = torch.cat(y_preds)"
   ]
  },
  {
   "cell_type": "code",
   "execution_count": 129,
   "metadata": {},
   "outputs": [],
   "source": [
    "!pip install mlxtend -qqq"
   ]
  },
  {
   "cell_type": "code",
   "execution_count": 130,
   "metadata": {},
   "outputs": [
    {
     "data": {
      "image/png": "[encoded data removed]",
      "text/plain": [
       "<Figure size 1000x700 with 1 Axes>"
      ]
     },
     "metadata": {},
     "output_type": "display_data"
    }
   ],
   "source": [
    "from torchmetrics import ConfusionMatrix\n",
    "from mlxtend.plotting import plot_confusion_matrix\n",
    "\n",
    "# 2. Setup confusion matrix instance and compare predictions to targets\n",
    "confmat = ConfusionMatrix(num_classes=len(class_names), task='multiclass')\n",
    "confmat_tensor = confmat(preds=y_pred_tensor,\n",
    "                         target=test_data.targets)\n",
    "\n",
    "# 3. Plot the confusion matrix\n",
    "fig, ax = plot_confusion_matrix(\n",
    "    conf_mat=confmat_tensor.numpy(),    # matplotlib likes working with NumPy \n",
    "    class_names=class_names,            # turn the row and column labels into class names\n",
    "    figsize=(10, 7)\n",
    ");"
   ]
  },
  {
   "cell_type": "markdown",
   "metadata": {},
   "source": [
    "Some common errors are:\n",
    "1. Pullovers are getting confused for coats\n",
    "2. T-shirts getting confused for shirts and vice versa"
   ]
  },
  {
   "cell_type": "markdown",
   "metadata": {},
   "source": [
    "## 11. Save and Load the best performing model"
   ]
  },
  {
   "cell_type": "code",
   "execution_count": 131,
   "metadata": {},
   "outputs": [
    {
     "name": "stdout",
     "output_type": "stream",
     "text": [
      "Saving model to: models\\03_pytorch_computer_vision_model_2.pth\n"
     ]
    }
   ],
   "source": [
    "from pathlib import Path\n",
    "\n",
    "MODEL_PATH = Path(\"models\")\n",
    "MODEL_PATH.mkdir(parents=True, exist_ok=True)           # Creating models directory if it doesn't already exist\n",
    "\n",
    "# Create model save path\n",
    "MODEL_NAME = '03_pytorch_computer_vision_model_2.pth'\n",
    "MODEL_SAVE_PATH = MODEL_PATH / MODEL_NAME\n",
    "\n",
    "# Save the model state dict\n",
    "print(f\"Saving model to: {MODEL_SAVE_PATH}\")\n",
    "torch.save(obj=model_2.state_dict(),        # Only saving the state dict saves only the model parameters\n",
    "           f=MODEL_SAVE_PATH)"
   ]
  },
  {
   "cell_type": "code",
   "execution_count": 140,
   "metadata": {},
   "outputs": [],
   "source": [
    "# Loading our model\n",
    "loaded_model_2 = FashionMNISTModelV2(input_shape=1, hidden_units=10, output_shape=10)\n",
    "\n",
    "# Load the state dict\n",
    "loaded_model_2.load_state_dict(torch.load(MODEL_SAVE_PATH))\n",
    "\n",
    "# Send model to GPU (if available)\n",
    "loaded_model_2 = loaded_model_2.to(device)"
   ]
  },
  {
   "cell_type": "code",
   "execution_count": 142,
   "metadata": {},
   "outputs": [
    {
     "data": {
      "text/plain": [
       "{'model_name': 'FashionMNISTModelV2',\n",
       " 'model_loss': 0.3249143064022064,\n",
       " 'model_acc': 88.2388178913738}"
      ]
     },
     "execution_count": 142,
     "metadata": {},
     "output_type": "execute_result"
    }
   ],
   "source": [
    "# Evaluate loaded model\n",
    "torch.manual_seed(42)\n",
    "\n",
    "loaded_model_2_results = eval_model(\n",
    "    model=loaded_model_2,\n",
    "    data_loader=test_dataloader,\n",
    "    loss_fn=loss_fn, \n",
    "    accuracy_fn=accuracy_fn\n",
    ")\n",
    "\n",
    "loaded_model_2_results"
   ]
  },
  {
   "cell_type": "code",
   "execution_count": 143,
   "metadata": {},
   "outputs": [
    {
     "data": {
      "text/plain": [
       "tensor(True)"
      ]
     },
     "execution_count": 143,
     "metadata": {},
     "output_type": "execute_result"
    }
   ],
   "source": [
    "# Check to see if results are close to each other (if they are very far away, there may be an error)\n",
    "torch.isclose(torch.tensor(model_2_results[\"model_loss\"]), \n",
    "              torch.tensor(loaded_model_2_results[\"model_loss\"]),\n",
    "              atol=1e-08, # absolute tolerance\n",
    "              rtol=0.0001) # relative tolerance"
   ]
  }
 ],
 "metadata": {
  "kernelspec": {
   "display_name": "Python 3",
   "language": "python",
   "name": "python3"
  },
  "language_info": {
   "codemirror_mode": {
    "name": "ipython",
    "version": 3
   },
   "file_extension": ".py",
   "mimetype": "text/x-python",
   "name": "python",
   "nbconvert_exporter": "python",
   "pygments_lexer": "ipython3",
   "version": "3.10.4"
  }
 },
 "nbformat": 4,
 "nbformat_minor": 2
}
